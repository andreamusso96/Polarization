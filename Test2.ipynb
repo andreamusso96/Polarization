{
 "cells": [
  {
   "cell_type": "code",
   "execution_count": 42,
   "metadata": {
    "collapsed": true
   },
   "outputs": [],
   "source": [
    "from Plotting.FigureARMSimulation import FigureARMSimulation\n",
    "from Database.DB import DB, ParameterValue, ParameterRange\n",
    "import numpy as np\n",
    "import plotly.graph_objects as go"
   ]
  },
  {
   "cell_type": "code",
   "execution_count": 2,
   "outputs": [],
   "source": [
    "%load_ext autoreload\n",
    "%autoreload 2"
   ],
   "metadata": {
    "collapsed": false
   }
  },
  {
   "cell_type": "code",
   "execution_count": 68,
   "outputs": [],
   "source": [
    "arm_stats = DB.get_arm_statistics(sim_ids=DB.get_sim_ids(arm=True))"
   ],
   "metadata": {
    "collapsed": false
   }
  },
  {
   "cell_type": "code",
   "execution_count": 69,
   "outputs": [
    {
     "data": {
      "text/plain": "   sim_id  end_variance  sim_id_1     n     t     r    e  mean  std  n_steps  \\\n0       1      0.329701         1  1000  0.05  0.05  0.1   0.0  0.2  1000000   \n1       2      0.226639         2  1000  0.05  0.05  0.1   0.0  0.2  1000000   \n2       3      0.720392         3  1000  0.05  0.05  0.3   0.0  0.2  1000000   \n3       4      0.236262         4  1000  0.05  0.05  0.3   0.0  0.2  1000000   \n4       5      0.441101         5  1000  0.05  0.10  0.1   0.0  0.2  1000000   \n\n     b  frequency_save  complete  \n0  1.0            1000      True  \n1  NaN            1000      True  \n2  1.0            1000      True  \n3  NaN            1000      True  \n4  1.0            1000      True  ",
      "text/html": "<div>\n<style scoped>\n    .dataframe tbody tr th:only-of-type {\n        vertical-align: middle;\n    }\n\n    .dataframe tbody tr th {\n        vertical-align: top;\n    }\n\n    .dataframe thead th {\n        text-align: right;\n    }\n</style>\n<table border=\"1\" class=\"dataframe\">\n  <thead>\n    <tr style=\"text-align: right;\">\n      <th></th>\n      <th>sim_id</th>\n      <th>end_variance</th>\n      <th>sim_id_1</th>\n      <th>n</th>\n      <th>t</th>\n      <th>r</th>\n      <th>e</th>\n      <th>mean</th>\n      <th>std</th>\n      <th>n_steps</th>\n      <th>b</th>\n      <th>frequency_save</th>\n      <th>complete</th>\n    </tr>\n  </thead>\n  <tbody>\n    <tr>\n      <th>0</th>\n      <td>1</td>\n      <td>0.329701</td>\n      <td>1</td>\n      <td>1000</td>\n      <td>0.05</td>\n      <td>0.05</td>\n      <td>0.1</td>\n      <td>0.0</td>\n      <td>0.2</td>\n      <td>1000000</td>\n      <td>1.0</td>\n      <td>1000</td>\n      <td>True</td>\n    </tr>\n    <tr>\n      <th>1</th>\n      <td>2</td>\n      <td>0.226639</td>\n      <td>2</td>\n      <td>1000</td>\n      <td>0.05</td>\n      <td>0.05</td>\n      <td>0.1</td>\n      <td>0.0</td>\n      <td>0.2</td>\n      <td>1000000</td>\n      <td>NaN</td>\n      <td>1000</td>\n      <td>True</td>\n    </tr>\n    <tr>\n      <th>2</th>\n      <td>3</td>\n      <td>0.720392</td>\n      <td>3</td>\n      <td>1000</td>\n      <td>0.05</td>\n      <td>0.05</td>\n      <td>0.3</td>\n      <td>0.0</td>\n      <td>0.2</td>\n      <td>1000000</td>\n      <td>1.0</td>\n      <td>1000</td>\n      <td>True</td>\n    </tr>\n    <tr>\n      <th>3</th>\n      <td>4</td>\n      <td>0.236262</td>\n      <td>4</td>\n      <td>1000</td>\n      <td>0.05</td>\n      <td>0.05</td>\n      <td>0.3</td>\n      <td>0.0</td>\n      <td>0.2</td>\n      <td>1000000</td>\n      <td>NaN</td>\n      <td>1000</td>\n      <td>True</td>\n    </tr>\n    <tr>\n      <th>4</th>\n      <td>5</td>\n      <td>0.441101</td>\n      <td>5</td>\n      <td>1000</td>\n      <td>0.05</td>\n      <td>0.10</td>\n      <td>0.1</td>\n      <td>0.0</td>\n      <td>0.2</td>\n      <td>1000000</td>\n      <td>1.0</td>\n      <td>1000</td>\n      <td>True</td>\n    </tr>\n  </tbody>\n</table>\n</div>"
     },
     "execution_count": 69,
     "metadata": {},
     "output_type": "execute_result"
    }
   ],
   "source": [
    "arm_stats"
   ],
   "metadata": {
    "collapsed": false
   }
  },
  {
   "cell_type": "code",
   "execution_count": 65,
   "outputs": [
    {
     "data": {
      "text/plain": "[]"
     },
     "execution_count": 65,
     "metadata": {},
     "output_type": "execute_result"
    }
   ],
   "source": [
    "problem_ids = [int(a) for a in arm_stats[arm_stats.end_variance > 1].sim_id]\n",
    "problem_ids"
   ],
   "metadata": {
    "collapsed": false
   }
  },
  {
   "cell_type": "code",
   "execution_count": 41,
   "outputs": [
    {
     "name": "stdout",
     "output_type": "stream",
     "text": [
      "VAR 5.807882488542758e-35 MAX VAR 4.81482486096809e-35\n",
      "VAR 1.0430114355072125e-35 MAX VAR 3.009265538105056e-36\n",
      "VAR 1.9108836166967105e-35 MAX VAR 3.009265538105056e-36\n",
      "VAR 3.442599775592184e-36 MAX VAR 3.009265538105056e-36\n",
      "VAR 1.2135803677889296e-37 MAX VAR 4.70197740328915e-38\n",
      "VAR 2.213690961468532e-37 MAX VAR 1.88079096131566e-37\n",
      "VAR 8.042262150585762e-37 MAX VAR 7.52316384526264e-37\n",
      "VAR 2.889496769688475e-35 MAX VAR 3.009265538105056e-36\n",
      "VAR 3.009265538105056e-36 MAX VAR 0.0\n",
      "VAR 2.054576046141227e-36 MAX VAR 7.52316384526264e-37\n",
      "VAR 9.753029608998487e-36 MAX VAR 3.009265538105056e-36\n",
      "VAR 1.7453740121009324e-35 MAX VAR 1.2037062152420224e-35\n",
      "VAR 7.52316384526264e-37 MAX VAR 0.0\n",
      "VAR 3.009265538105056e-36 MAX VAR 0.0\n",
      "VAR 5.900511443387554e-37 MAX VAR 4.70197740328915e-38\n",
      "VAR 6.484967234616395e-36 MAX VAR 7.52316384526264e-37\n",
      "VAR 7.636011302941579e-37 MAX VAR 7.52316384526264e-37\n",
      "VAR 8.877333337409915e-37 MAX VAR 7.52316384526264e-37\n",
      "VAR 1.4406858763677956e-37 MAX VAR 4.70197740328915e-38\n",
      "VAR 1.0872476389173567e-35 MAX VAR 3.009265538105056e-36\n",
      "VAR 2.371677402219047e-37 MAX VAR 1.88079096131566e-37\n",
      "VAR 1.925929944387236e-34 MAX VAR 0.0\n",
      "VAR 9.73309322480854e-37 MAX VAR 1.88079096131566e-37\n",
      "VAR 6.857363844956896e-37 MAX VAR 1.88079096131566e-37\n",
      "VAR 1.8251195488607166e-35 MAX VAR 3.009265538105056e-36\n",
      "VAR 7.576061091049643e-39 MAX VAR 2.938735877055719e-39\n",
      "VAR 1.914645198619342e-36 MAX VAR 7.52316384526264e-37\n",
      "VAR 7.225246556990239e-36 MAX VAR 3.009265538105056e-36\n",
      "VAR 4.81482486096809e-35 MAX VAR 0.0\n",
      "VAR 7.52316384526264e-37 MAX VAR 0.0\n",
      "VAR 3.009265538105056e-36 MAX VAR 0.0\n",
      "VAR 7.346839692639297e-40 MAX VAR 0.0\n",
      "VAR 6.376633675244614e-36 MAX VAR 3.009265538105056e-36\n",
      "VAR 1.2037062152420224e-35 MAX VAR 0.0\n",
      "VAR 1.372037006279774e-36 MAX VAR 1.88079096131566e-37\n",
      "VAR 7.52316384526264e-37 MAX VAR 0.0\n",
      "VAR 1.2037062152420224e-35 MAX VAR 0.0\n",
      "VAR 7.52316384526264e-37 MAX VAR 0.0\n",
      "VAR 7.821081133535041e-36 MAX VAR 3.009265538105056e-36\n",
      "VAR 7.52316384526264e-37 MAX VAR 0.0\n",
      "VAR 1.0321780795700343e-36 MAX VAR 7.52316384526264e-37\n",
      "VAR 1.1053408479652133e-36 MAX VAR 7.52316384526264e-37\n",
      "VAR 8.45152226376805e-36 MAX VAR 3.009265538105056e-36\n",
      "VAR 4.218990284423288e-36 MAX VAR 3.009265538105056e-36\n",
      "VAR 4.534963165924319e-36 MAX VAR 3.009265538105056e-36\n",
      "VAR 2.9031889278868528e-36 MAX VAR 7.52316384526264e-37\n",
      "VAR 2.043291300373333e-35 MAX VAR 3.009265538105056e-36\n",
      "VAR 9.725946219155542e-36 MAX VAR 3.009265538105056e-36\n",
      "VAR 9.012750286624642e-37 MAX VAR 7.52316384526264e-37\n",
      "VAR 1.288341808501227e-36 MAX VAR 1.88079096131566e-37\n",
      "VAR 1.7333369499485122e-35 MAX VAR 3.009265538105056e-36\n",
      "VAR 9.847821473448795e-37 MAX VAR 7.52316384526264e-37\n",
      "VAR 6.270557065026411e-37 MAX VAR 1.88079096131566e-37\n",
      "VAR 4.431143504859695e-36 MAX VAR 7.52316384526264e-37\n",
      "VAR 7.52316384526264e-37 MAX VAR 0.0\n",
      "VAR 3.009265538105056e-36 MAX VAR 0.0\n",
      "VAR 3.009265538105056e-36 MAX VAR 0.0\n",
      "VAR 1.2037062152420224e-35 MAX VAR 0.0\n",
      "VAR 1.2037062152420224e-35 MAX VAR 0.0\n",
      "VAR 1.2443313000064406e-35 MAX VAR 3.009265538105056e-36\n",
      "VAR 1.2037062152420224e-35 MAX VAR 0.0\n",
      "VAR 3.009265538105056e-36 MAX VAR 0.0\n",
      "VAR 1.2783360005870279e-35 MAX VAR 1.2037062152420224e-35\n",
      "VAR 7.52316384526264e-37 MAX VAR 0.0\n",
      "VAR 1.88079096131566e-37 MAX VAR 0.0\n",
      "VAR 3.009265538105056e-36 MAX VAR 0.0\n",
      "VAR 3.009265538105056e-36 MAX VAR 0.0\n",
      "VAR 7.52316384526264e-37 MAX VAR 0.0\n",
      "VAR 8.510579099953362e-38 MAX VAR 4.70197740328915e-38\n",
      "VAR 6.202848590419046e-36 MAX VAR 7.52316384526264e-37\n",
      "VAR 1.4384289272142167e-36 MAX VAR 7.52316384526264e-37\n",
      "VAR 1.6889502832614628e-36 MAX VAR 7.52316384526264e-37\n",
      "VAR 2.800497741399018e-37 MAX VAR 1.88079096131566e-37\n",
      "VAR 3.523849945121021e-36 MAX VAR 3.009265538105056e-36\n",
      "VAR 2.7425752572622496e-39 MAX VAR 7.346839692639297e-40\n",
      "VAR 2.4833963853211976e-36 MAX VAR 7.52316384526264e-37\n",
      "VAR 5.0104271209449184e-36 MAX VAR 7.52316384526264e-37\n",
      "VAR 8.516221472837308e-37 MAX VAR 7.52316384526264e-37\n",
      "VAR 9.495790302736291e-40 MAX VAR 1.8367099231598242e-40\n",
      "VAR 1.1754943508222875e-38 MAX VAR 0.0\n",
      "VAR 1.88079096131566e-37 MAX VAR 0.0\n",
      "VAR 4.871248589807559e-37 MAX VAR 1.88079096131566e-37\n",
      "VAR 1.2037062152420224e-35 MAX VAR 0.0\n",
      "VAR 1.2037062152420224e-35 MAX VAR 0.0\n",
      "VAR 1.2037062152420224e-35 MAX VAR 0.0\n",
      "VAR 1.0833355937178202e-34 MAX VAR 0.0\n",
      "VAR 7.52316384526264e-37 MAX VAR 0.0\n",
      "VAR 1.88079096131566e-37 MAX VAR 0.0\n",
      "VAR 1.2037062152420224e-35 MAX VAR 0.0\n",
      "VAR 6.428543505776926e-37 MAX VAR 1.88079096131566e-37\n",
      "VAR 6.15996655650105e-36 MAX VAR 3.009265538105056e-36\n",
      "VAR 1.9033604528514478e-36 MAX VAR 7.52316384526264e-37\n",
      "VAR 1.2037062152420224e-35 MAX VAR 0.0\n",
      "VAR 6.823744706523379e-38 MAX VAR 1.1754943508222875e-38\n",
      "VAR 9.301639778282729e-36 MAX VAR 3.009265538105056e-36\n",
      "VAR 4.3273238437950704e-36 MAX VAR 3.009265538105056e-36\n",
      "VAR 1.1079739553110553e-36 MAX VAR 7.52316384526264e-37\n",
      "VAR 1.426692791615607e-35 MAX VAR 1.2037062152420224e-35\n",
      "VAR 5.337684748213843e-36 MAX VAR 7.52316384526264e-37\n",
      "VAR 1.2968053678271475e-36 MAX VAR 1.88079096131566e-37\n",
      "VAR 1.8455261307909914e-39 MAX VAR 7.346839692639297e-40\n",
      "VAR 4.404812431401276e-36 MAX VAR 7.52316384526264e-37\n",
      "VAR 6.986762263095414e-36 MAX VAR 7.52316384526264e-37\n",
      "VAR 3.889475708000785e-36 MAX VAR 7.52316384526264e-37\n",
      "VAR 2.0430091817291357e-38 MAX VAR 1.1754943508222875e-38\n",
      "VAR 1.3007550288459105e-36 MAX VAR 7.52316384526264e-37\n",
      "VAR 1.1049646897729503e-37 MAX VAR 4.70197740328915e-38\n",
      "VAR 9.12183616238095e-37 MAX VAR 1.88079096131566e-37\n",
      "VAR 1.1621783508161727e-35 MAX VAR 3.009265538105056e-36\n",
      "VAR 1.4942884187652919e-37 MAX VAR 4.70197740328915e-38\n",
      "VAR 3.009265538105056e-36 MAX VAR 0.0\n",
      "VAR 4.81482486096809e-35 MAX VAR 0.0\n",
      "VAR 3.009265538105056e-36 MAX VAR 0.0\n",
      "VAR 2.0571151139390031e-38 MAX VAR 1.1754943508222875e-38\n",
      "VAR 3.5523439281849527e-37 MAX VAR 4.70197740328915e-38\n",
      "VAR 7.52316384526264e-37 MAX VAR 0.0\n",
      "VAR 7.52316384526264e-37 MAX VAR 0.0\n",
      "VAR 2.5142413570867744e-35 MAX VAR 3.009265538105056e-36\n",
      "VAR 4.850033267763919e-35 MAX VAR 3.009265538105056e-36\n",
      "VAR 3.009265538105056e-36 MAX VAR 0.0\n",
      "VAR 1.2037062152420224e-35 MAX VAR 0.0\n",
      "VAR 1.692711865184094e-36 MAX VAR 0.0\n",
      "VAR 4.81482486096809e-35 MAX VAR 0.0\n",
      "VAR 7.983581472592714e-36 MAX VAR 3.009265538105056e-36\n",
      "VAR 7.150014918537614e-35 MAX VAR 1.2037062152420224e-35\n",
      "VAR 1.242826667237388e-35 MAX VAR 1.2037062152420224e-35\n",
      "VAR 5.703310511093608e-36 MAX VAR 3.009265538105056e-36\n",
      "VAR 7.465564622072348e-38 MAX VAR 4.70197740328915e-38\n",
      "VAR 2.2306180801203727e-37 MAX VAR 1.88079096131566e-37\n",
      "VAR 1.5648180798146292e-36 MAX VAR 7.52316384526264e-37\n",
      "VAR 1.6972257634912515e-35 MAX VAR 3.009265538105056e-36\n",
      "VAR 6.970963619020362e-36 MAX VAR 7.52316384526264e-37\n",
      "VAR 1.9191590969264996e-36 MAX VAR 7.52316384526264e-37\n",
      "VAR 1.4993665543608442e-36 MAX VAR 7.52316384526264e-37\n",
      "VAR 1.7747143510974568e-36 MAX VAR 7.52316384526264e-37\n",
      "VAR 2.6075285887680312e-36 MAX VAR 7.52316384526264e-37\n",
      "VAR 1.4754805091521352e-36 MAX VAR 1.88079096131566e-37\n",
      "VAR 2.9246299448458513e-38 MAX VAR 1.1754943508222875e-38\n",
      "VAR 4.532555753493835e-35 MAX VAR 3.009265538105056e-36\n",
      "VAR 5.920729946221698e-37 MAX VAR 1.88079096131566e-37\n",
      "VAR 2.5601326565428764e-36 MAX VAR 7.52316384526264e-37\n",
      "VAR 3.009265538105056e-36 MAX VAR 0.0\n",
      "VAR 4.852440680194403e-36 MAX VAR 7.52316384526264e-37\n",
      "VAR 9.62494774453289e-38 MAX VAR 4.70197740328915e-38\n",
      "VAR 7.52316384526264e-37 MAX VAR 0.0\n",
      "VAR 1.2037062152420224e-35 MAX VAR 0.0\n",
      "VAR 2.938735877055719e-39 MAX VAR 0.0\n",
      "VAR 3.009265538105056e-36 MAX VAR 0.0\n",
      "VAR 3.009265538105056e-36 MAX VAR 0.0\n",
      "VAR 6.770847460736376e-36 MAX VAR 0.0\n",
      "VAR 1.0299211304164554e-36 MAX VAR 7.52316384526264e-37\n",
      "VAR 7.52316384526264e-37 MAX VAR 0.0\n",
      "VAR 7.52316384526264e-37 MAX VAR 0.0\n",
      "VAR 1.2037062152420224e-35 MAX VAR 0.0\n",
      "VAR 7.52316384526264e-37 MAX VAR 0.0\n",
      "VAR 4.81482486096809e-35 MAX VAR 0.0\n",
      "VAR 4.70197740328915e-38 MAX VAR 0.0\n",
      "VAR 3.009265538105056e-36 MAX VAR 0.0\n",
      "VAR 7.52316384526264e-37 MAX VAR 0.0\n",
      "VAR 7.52316384526264e-37 MAX VAR 0.0\n",
      "VAR 1.2037062152420224e-35 MAX VAR 0.0\n",
      "VAR 4.81482486096809e-35 MAX VAR 0.0\n",
      "VAR 7.52316384526264e-37 MAX VAR 0.0\n",
      "VAR 4.81482486096809e-35 MAX VAR 0.0\n",
      "VAR 4.81482486096809e-35 MAX VAR 0.0\n",
      "VAR 3.009265538105056e-36 MAX VAR 0.0\n",
      "VAR 4.81482486096809e-35 MAX VAR 0.0\n",
      "VAR 3.735100385895996e-35 MAX VAR 1.2037062152420224e-35\n",
      "VAR 1.2037062152420224e-35 MAX VAR 0.0\n",
      "VAR 3.0814879110195774e-33 MAX VAR 0.0\n"
     ]
    }
   ],
   "source": [
    "variances = []\n",
    "for sid in problem_ids:\n",
    "    result = DB.get_arm_result(sim_id=sid)\n",
    "    max_possible_variance = (np.max(result.states[-1]) - np.min(result.states[-1]))**2\n",
    "    var = np.var(result.states[-1])\n",
    "    print('VAR', var, 'MAX VAR', max_possible_variance)\n",
    "    variances += [(sid, var, max_possible_variance)]"
   ],
   "metadata": {
    "collapsed": false
   }
  },
  {
   "cell_type": "code",
   "execution_count": 40,
   "outputs": [],
   "source": [
    "fig = go.Figure()\n",
    "arm_stats_good = arm_stats[arm_stats.end_variance <= 1]\n",
    "fig.add_trace(go.Scatter(x=list(arm_stats_good.sim_id.values), y=sorted(arm_stats_good.end_variance.values), mode='markers'))\n",
    "fig.show(renderer='browser')"
   ],
   "metadata": {
    "collapsed": false
   }
  },
  {
   "cell_type": "code",
   "execution_count": 35,
   "outputs": [],
   "source": [
    "arm_stats_good = arm_stats[arm_stats.end_variance <= 1]"
   ],
   "metadata": {
    "collapsed": false
   }
  },
  {
   "cell_type": "code",
   "execution_count": 36,
   "outputs": [
    {
     "data": {
      "text/plain": "      sim_id  end_variance\n0          1      0.082425\n1          2      0.056660\n2          3      0.180098\n3          4      0.059066\n4          5      0.110275\n...      ...           ...\n1575    1595      0.082250\n1576    1596      0.176000\n1577    1597      0.063125\n1578    1598      0.166479\n1579    1599      0.163564\n\n[1384 rows x 2 columns]",
      "text/html": "<div>\n<style scoped>\n    .dataframe tbody tr th:only-of-type {\n        vertical-align: middle;\n    }\n\n    .dataframe tbody tr th {\n        vertical-align: top;\n    }\n\n    .dataframe thead th {\n        text-align: right;\n    }\n</style>\n<table border=\"1\" class=\"dataframe\">\n  <thead>\n    <tr style=\"text-align: right;\">\n      <th></th>\n      <th>sim_id</th>\n      <th>end_variance</th>\n    </tr>\n  </thead>\n  <tbody>\n    <tr>\n      <th>0</th>\n      <td>1</td>\n      <td>0.082425</td>\n    </tr>\n    <tr>\n      <th>1</th>\n      <td>2</td>\n      <td>0.056660</td>\n    </tr>\n    <tr>\n      <th>2</th>\n      <td>3</td>\n      <td>0.180098</td>\n    </tr>\n    <tr>\n      <th>3</th>\n      <td>4</td>\n      <td>0.059066</td>\n    </tr>\n    <tr>\n      <th>4</th>\n      <td>5</td>\n      <td>0.110275</td>\n    </tr>\n    <tr>\n      <th>...</th>\n      <td>...</td>\n      <td>...</td>\n    </tr>\n    <tr>\n      <th>1575</th>\n      <td>1595</td>\n      <td>0.082250</td>\n    </tr>\n    <tr>\n      <th>1576</th>\n      <td>1596</td>\n      <td>0.176000</td>\n    </tr>\n    <tr>\n      <th>1577</th>\n      <td>1597</td>\n      <td>0.063125</td>\n    </tr>\n    <tr>\n      <th>1578</th>\n      <td>1598</td>\n      <td>0.166479</td>\n    </tr>\n    <tr>\n      <th>1579</th>\n      <td>1599</td>\n      <td>0.163564</td>\n    </tr>\n  </tbody>\n</table>\n<p>1384 rows × 2 columns</p>\n</div>"
     },
     "execution_count": 36,
     "metadata": {},
     "output_type": "execute_result"
    }
   ],
   "source": [
    "arm_stats_good"
   ],
   "metadata": {
    "collapsed": false
   }
  },
  {
   "cell_type": "code",
   "execution_count": 43,
   "outputs": [],
   "source": [
    "ids_to_simulates = DB.get_sim_ids(arm=True, param_ranges=[ParameterRange(name='sim_id', min_val=105, max_val=200)])"
   ],
   "metadata": {
    "collapsed": false
   }
  },
  {
   "cell_type": "code",
   "execution_count": 44,
   "outputs": [],
   "source": [
    "ids_to_simulates = DB.get_sim_ids(arm=True, param_values=[ParameterValue(name='complete', value=False)], param_ranges=[ParameterRange(name='sim_id', min_val=105, max_val=1546)])"
   ],
   "metadata": {
    "collapsed": false
   }
  },
  {
   "cell_type": "code",
   "execution_count": 46,
   "outputs": [],
   "source": [
    "params = DB.get_arm_parameters(sim_ids=ids_to_simulates)"
   ],
   "metadata": {
    "collapsed": false
   }
  },
  {
   "cell_type": "code",
   "execution_count": 47,
   "outputs": [],
   "source": [
    "ids = []\n",
    "for p in params:\n",
    "    ids.append(p.sim_id)"
   ],
   "metadata": {
    "collapsed": false
   }
  },
  {
   "cell_type": "code",
   "execution_count": 51,
   "outputs": [
    {
     "data": {
      "text/plain": "set()"
     },
     "execution_count": 51,
     "metadata": {},
     "output_type": "execute_result"
    }
   ],
   "source": [
    "set(ids_to_simulates) - set(ids)"
   ],
   "metadata": {
    "collapsed": false
   }
  },
  {
   "cell_type": "code",
   "execution_count": 52,
   "outputs": [],
   "source": [
    "res = DB.get_arm_result(sim_id=229)"
   ],
   "metadata": {
    "collapsed": false
   }
  },
  {
   "cell_type": "code",
   "execution_count": 58,
   "outputs": [
    {
     "data": {
      "text/plain": "0.850688201180076"
     },
     "execution_count": 58,
     "metadata": {},
     "output_type": "execute_result"
    }
   ],
   "source": [
    "np.var(res.states[-1])"
   ],
   "metadata": {
    "collapsed": false
   }
  },
  {
   "cell_type": "code",
   "execution_count": 59,
   "outputs": [
    {
     "data": {
      "text/plain": "1.0"
     },
     "execution_count": 59,
     "metadata": {},
     "output_type": "execute_result"
    }
   ],
   "source": [
    "(1/2*np.max(res.states[-1])- 1/2*np.min(res.states[-1]))**2"
   ],
   "metadata": {
    "collapsed": false
   }
  },
  {
   "cell_type": "code",
   "execution_count": null,
   "outputs": [],
   "source": [],
   "metadata": {
    "collapsed": false
   }
  }
 ],
 "metadata": {
  "kernelspec": {
   "display_name": "Python 3",
   "language": "python",
   "name": "python3"
  },
  "language_info": {
   "codemirror_mode": {
    "name": "ipython",
    "version": 2
   },
   "file_extension": ".py",
   "mimetype": "text/x-python",
   "name": "python",
   "nbconvert_exporter": "python",
   "pygments_lexer": "ipython2",
   "version": "2.7.6"
  }
 },
 "nbformat": 4,
 "nbformat_minor": 0
}
